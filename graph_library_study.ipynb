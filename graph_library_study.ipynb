{
 "cells": [
  {
   "attachments": {},
   "cell_type": "markdown",
   "metadata": {},
   "source": [
    "# Studying PyMaxflow"
   ]
  },
  {
   "attachments": {},
   "cell_type": "markdown",
   "metadata": {},
   "source": [
    "This notebook aims to explore the library PyMaxflow necessary for our Attention Flow algorithm"
   ]
  },
  {
   "cell_type": "code",
   "execution_count": 43,
   "metadata": {},
   "outputs": [
    {
     "name": "stdout",
     "output_type": "stream",
     "text": [
      "(1, 2, 13)\n"
     ]
    }
   ],
   "source": [
    "import maxflow\n",
    "print(maxflow.__version__)"
   ]
  },
  {
   "attachments": {},
   "cell_type": "markdown",
   "metadata": {},
   "source": [
    "Terminal nodes seem to not be declared in the graph"
   ]
  },
  {
   "cell_type": "code",
   "execution_count": 44,
   "metadata": {},
   "outputs": [
    {
     "name": "stdout",
     "output_type": "stream",
     "text": [
      "\n"
     ]
    }
   ],
   "source": [
    "g = maxflow.Graph[int](2,2)\n",
    "\n",
    "'''\n",
    "The constructor parameters (2, 2) are initial estimations of the number of nodes \n",
    "and the number of non-terminal edges. These estimations do not need to be correct \n",
    "or even approximate (it is possible to set them to 0), but a good estimation allows \n",
    "for more efficient memory management.\n",
    "'''\n",
    "\n",
    "# Thus this only talks about capacity\n",
    "print()"
   ]
  },
  {
   "cell_type": "code",
   "execution_count": 45,
   "metadata": {},
   "outputs": [],
   "source": [
    "nodes = g.add_nodes(2)"
   ]
  },
  {
   "cell_type": "code",
   "execution_count": 46,
   "metadata": {},
   "outputs": [],
   "source": [
    "g.add_edge(nodes[0], nodes[1], 1, 2)\n",
    "# Hence 1 capacity from node 0 to 1\n",
    "# and 2 capacity from node 1 to 0\n",
    "\n",
    "# Set the capcities of the terminal edges\n",
    "g.add_tedge(nodes[0], 2, 5) \n",
    "# Hence here it states that it can receive 2\n",
    "# and give 5 to the sink\n",
    "g.add_tedge(nodes[1], 9, 4) "
   ]
  },
  {
   "attachments": {},
   "cell_type": "markdown",
   "metadata": {},
   "source": [
    "Conclusion: The non-terminal edges are created with add_edge. The terminal edges are created with add_tedge.\n",
    "\n",
    "Important question: can it handle the max flow and say how much it went to each sink??"
   ]
  },
  {
   "cell_type": "code",
   "execution_count": 47,
   "metadata": {},
   "outputs": [],
   "source": [
    "initial_graph = g.get_nx_graph()"
   ]
  },
  {
   "cell_type": "code",
   "execution_count": 48,
   "metadata": {},
   "outputs": [
    {
     "name": "stdout",
     "output_type": "stream",
     "text": [
      "Maximum flow: 8\n"
     ]
    }
   ],
   "source": [
    "flow = g.maxflow()\n",
    "print(f\"Maximum flow: {flow}\")"
   ]
  },
  {
   "cell_type": "code",
   "execution_count": 49,
   "metadata": {},
   "outputs": [
    {
     "name": "stdout",
     "output_type": "stream",
     "text": [
      "Segment of the node 0: 1\n",
      "Segment of the node 1: 0\n"
     ]
    }
   ],
   "source": [
    "print(f\"Segment of the node 0: {g.get_segment(nodes[0])}\")\n",
    "print(f\"Segment of the node 1: {g.get_segment(nodes[1])}\")"
   ]
  },
  {
   "cell_type": "code",
   "execution_count": 50,
   "metadata": {},
   "outputs": [],
   "source": [
    "final_graph = g.get_nx_graph()"
   ]
  },
  {
   "attachments": {},
   "cell_type": "markdown",
   "metadata": {},
   "source": [
    "Seems that the only way to compute the output is as such:"
   ]
  },
  {
   "cell_type": "code",
   "execution_count": 52,
   "metadata": {},
   "outputs": [
    {
     "data": {
      "text/plain": [
       "AdjacencyView({0: {1: {'weight': 1}, 't': {'weight': 3}}, 1: {0: {'weight': 2}}, 's': {1: {'weight': 5}}, 't': {}})"
      ]
     },
     "execution_count": 52,
     "metadata": {},
     "output_type": "execute_result"
    }
   ],
   "source": [
    "initial_graph.adj"
   ]
  },
  {
   "cell_type": "code",
   "execution_count": 53,
   "metadata": {},
   "outputs": [
    {
     "data": {
      "text/plain": [
       "AdjacencyView({0: {1: {'weight': 3}, 't': {'weight': 1}}, 1: {}, 's': {1: {'weight': 3}}, 't': {}})"
      ]
     },
     "execution_count": 53,
     "metadata": {},
     "output_type": "execute_result"
    }
   ],
   "source": [
    "final_graph.adj"
   ]
  },
  {
   "attachments": {},
   "cell_type": "markdown",
   "metadata": {},
   "source": [
    "It seems that the best way is therefore to flatten all attention layers, but in some way keep their weight..."
   ]
  },
  {
   "attachments": {},
   "cell_type": "markdown",
   "metadata": {},
   "source": []
  }
 ],
 "metadata": {
  "kernelspec": {
   "display_name": "venv_ml_env",
   "language": "python",
   "name": "python3"
  },
  "language_info": {
   "codemirror_mode": {
    "name": "ipython",
    "version": 3
   },
   "file_extension": ".py",
   "mimetype": "text/x-python",
   "name": "python",
   "nbconvert_exporter": "python",
   "pygments_lexer": "ipython3",
   "version": "3.9.18"
  },
  "orig_nbformat": 4
 },
 "nbformat": 4,
 "nbformat_minor": 2
}
