{
 "cells": [
  {
   "cell_type": "code",
   "execution_count": 1,
   "metadata": {},
   "outputs": [],
   "source": [
    "import pandas as pd\n",
    "import matplotlib.pyplot as plt"
   ]
  },
  {
   "cell_type": "code",
   "execution_count": 2,
   "metadata": {},
   "outputs": [],
   "source": [
    "df_flow = pd.read_csv('images_done/attention_flow.txt', header = None)\n",
    "df_rollout = pd.read_csv('images_done/attention_rollout.txt', header = None)\n",
    "df_grad_rollout = pd.read_csv('images_done/attention_grad_rollout.txt', header = None)\n",
    "df_blank_out = pd.read_csv('images_done/blank_out.txt', header = None)"
   ]
  },
  {
   "attachments": {},
   "cell_type": "markdown",
   "metadata": {},
   "source": [
    "# Getting max index"
   ]
  },
  {
   "cell_type": "code",
   "execution_count": 3,
   "metadata": {},
   "outputs": [],
   "source": [
    "n_els = 20\n",
    "\n",
    "df_rollout_max = df_rollout.apply(lambda x : set(x.sort_values(ascending=False).head(n_els).index), axis = 1)\n",
    "df_grad_max = df_grad_rollout.apply(lambda x : set(x.sort_values(ascending=False).head(n_els).index), axis = 1)\n",
    "df_flow_max = df_flow.apply(lambda x : set(x.sort_values(ascending=False).head(n_els).index), axis = 1)\n",
    "\n",
    "df_blank_out_max = df_blank_out.apply(lambda x : set(x.sort_values(ascending=False).head(n_els).index), axis = 1)"
   ]
  },
  {
   "cell_type": "code",
   "execution_count": 4,
   "metadata": {},
   "outputs": [
    {
     "name": "stdout",
     "output_type": "stream",
     "text": [
      "0.1211065573770492\n",
      "0.08687063437846923\n"
     ]
    }
   ],
   "source": [
    "common_elements = df_blank_out_max.combine(df_flow_max, func = lambda s1, s2 : s1.intersection(s2)).apply(lambda x : len(x)) / n_els\n",
    "\n",
    "print(common_elements.mean())\n",
    "print(common_elements.std())"
   ]
  },
  {
   "attachments": {},
   "cell_type": "markdown",
   "metadata": {},
   "source": [
    "# Paper approach"
   ]
  },
  {
   "cell_type": "code",
   "execution_count": 5,
   "metadata": {},
   "outputs": [
    {
     "data": {
      "text/html": [
       "<div>\n",
       "<style scoped>\n",
       "    .dataframe tbody tr th:only-of-type {\n",
       "        vertical-align: middle;\n",
       "    }\n",
       "\n",
       "    .dataframe tbody tr th {\n",
       "        vertical-align: top;\n",
       "    }\n",
       "\n",
       "    .dataframe thead th {\n",
       "        text-align: right;\n",
       "    }\n",
       "</style>\n",
       "<table border=\"1\" class=\"dataframe\">\n",
       "  <thead>\n",
       "    <tr style=\"text-align: right;\">\n",
       "      <th></th>\n",
       "      <th>rollout</th>\n",
       "      <th>grad_rollout</th>\n",
       "      <th>flow</th>\n",
       "    </tr>\n",
       "  </thead>\n",
       "  <tbody>\n",
       "    <tr>\n",
       "      <th>count</th>\n",
       "      <td>244.000000</td>\n",
       "      <td>244.000000</td>\n",
       "      <td>244.000000</td>\n",
       "    </tr>\n",
       "    <tr>\n",
       "      <th>mean</th>\n",
       "      <td>0.109094</td>\n",
       "      <td>0.113185</td>\n",
       "      <td>-0.010938</td>\n",
       "    </tr>\n",
       "    <tr>\n",
       "      <th>std</th>\n",
       "      <td>0.236275</td>\n",
       "      <td>0.207683</td>\n",
       "      <td>0.132560</td>\n",
       "    </tr>\n",
       "    <tr>\n",
       "      <th>min</th>\n",
       "      <td>-0.572575</td>\n",
       "      <td>-0.452795</td>\n",
       "      <td>-0.447661</td>\n",
       "    </tr>\n",
       "    <tr>\n",
       "      <th>25%</th>\n",
       "      <td>-0.051216</td>\n",
       "      <td>-0.032821</td>\n",
       "      <td>-0.089740</td>\n",
       "    </tr>\n",
       "    <tr>\n",
       "      <th>50%</th>\n",
       "      <td>0.105721</td>\n",
       "      <td>0.109657</td>\n",
       "      <td>-0.012506</td>\n",
       "    </tr>\n",
       "    <tr>\n",
       "      <th>75%</th>\n",
       "      <td>0.283110</td>\n",
       "      <td>0.256540</td>\n",
       "      <td>0.073610</td>\n",
       "    </tr>\n",
       "    <tr>\n",
       "      <th>max</th>\n",
       "      <td>0.650453</td>\n",
       "      <td>0.602786</td>\n",
       "      <td>0.438896</td>\n",
       "    </tr>\n",
       "  </tbody>\n",
       "</table>\n",
       "</div>"
      ],
      "text/plain": [
       "          rollout  grad_rollout        flow\n",
       "count  244.000000    244.000000  244.000000\n",
       "mean     0.109094      0.113185   -0.010938\n",
       "std      0.236275      0.207683    0.132560\n",
       "min     -0.572575     -0.452795   -0.447661\n",
       "25%     -0.051216     -0.032821   -0.089740\n",
       "50%      0.105721      0.109657   -0.012506\n",
       "75%      0.283110      0.256540    0.073610\n",
       "max      0.650453      0.602786    0.438896"
      ]
     },
     "execution_count": 5,
     "metadata": {},
     "output_type": "execute_result"
    }
   ],
   "source": [
    "performance_dict = {}\n",
    "\n",
    "for idx in range(df_flow.shape[0]):\n",
    "    rollout_corr = df_blank_out.iloc[idx,:].corr(df_rollout.iloc[idx,:], method='spearman')\n",
    "    grad_rollout_corr = df_blank_out.iloc[idx,:].corr(df_grad_rollout.iloc[idx,:], method='spearman')\n",
    "    flow_corr = df_blank_out.iloc[idx,:].corr(df_flow.iloc[idx,:], method='spearman')\n",
    "    \n",
    "    performance_dict[idx] = [rollout_corr,grad_rollout_corr , flow_corr]\n",
    "    \n",
    "df_corrs = pd.DataFrame(performance_dict).T.rename({0 : 'rollout', 1: 'grad_rollout', 2: 'flow'}, axis = 1)\n",
    "df_corrs.describe()"
   ]
  },
  {
   "cell_type": "code",
   "execution_count": 6,
   "metadata": {},
   "outputs": [
    {
     "data": {
      "text/html": [
       "<div>\n",
       "<style scoped>\n",
       "    .dataframe tbody tr th:only-of-type {\n",
       "        vertical-align: middle;\n",
       "    }\n",
       "\n",
       "    .dataframe tbody tr th {\n",
       "        vertical-align: top;\n",
       "    }\n",
       "\n",
       "    .dataframe thead th {\n",
       "        text-align: right;\n",
       "    }\n",
       "</style>\n",
       "<table border=\"1\" class=\"dataframe\">\n",
       "  <thead>\n",
       "    <tr style=\"text-align: right;\">\n",
       "      <th></th>\n",
       "      <th>grad_rollout</th>\n",
       "      <th>flow</th>\n",
       "    </tr>\n",
       "  </thead>\n",
       "  <tbody>\n",
       "    <tr>\n",
       "      <th>count</th>\n",
       "      <td>244.000000</td>\n",
       "      <td>244.000000</td>\n",
       "    </tr>\n",
       "    <tr>\n",
       "      <th>mean</th>\n",
       "      <td>0.471193</td>\n",
       "      <td>0.238227</td>\n",
       "    </tr>\n",
       "    <tr>\n",
       "      <th>std</th>\n",
       "      <td>0.224819</td>\n",
       "      <td>0.165661</td>\n",
       "    </tr>\n",
       "    <tr>\n",
       "      <th>min</th>\n",
       "      <td>-0.171307</td>\n",
       "      <td>-0.234687</td>\n",
       "    </tr>\n",
       "    <tr>\n",
       "      <th>25%</th>\n",
       "      <td>0.331623</td>\n",
       "      <td>0.122849</td>\n",
       "    </tr>\n",
       "    <tr>\n",
       "      <th>50%</th>\n",
       "      <td>0.516407</td>\n",
       "      <td>0.251650</td>\n",
       "    </tr>\n",
       "    <tr>\n",
       "      <th>75%</th>\n",
       "      <td>0.639602</td>\n",
       "      <td>0.346300</td>\n",
       "    </tr>\n",
       "    <tr>\n",
       "      <th>max</th>\n",
       "      <td>0.844401</td>\n",
       "      <td>0.661277</td>\n",
       "    </tr>\n",
       "  </tbody>\n",
       "</table>\n",
       "</div>"
      ],
      "text/plain": [
       "       grad_rollout        flow\n",
       "count    244.000000  244.000000\n",
       "mean       0.471193    0.238227\n",
       "std        0.224819    0.165661\n",
       "min       -0.171307   -0.234687\n",
       "25%        0.331623    0.122849\n",
       "50%        0.516407    0.251650\n",
       "75%        0.639602    0.346300\n",
       "max        0.844401    0.661277"
      ]
     },
     "execution_count": 6,
     "metadata": {},
     "output_type": "execute_result"
    }
   ],
   "source": [
    "performance_dict = {}\n",
    "\n",
    "for idx in range(df_flow.shape[0]):\n",
    "    grad_rollout_corr = df_rollout.iloc[idx,:].corr(df_grad_rollout.iloc[idx,:], method='spearman')\n",
    "    flow_corr = df_rollout.iloc[idx,:].corr(df_flow.iloc[idx,:], method='spearman')\n",
    "    \n",
    "    performance_dict[idx] = [grad_rollout_corr , flow_corr]\n",
    "    \n",
    "df_corrs = pd.DataFrame(performance_dict).T.rename({0 : 'grad_rollout', 1: 'flow'}, axis = 1)\n",
    "df_corrs.describe()"
   ]
  },
  {
   "cell_type": "code",
   "execution_count": 7,
   "metadata": {},
   "outputs": [
    {
     "data": {
      "text/html": [
       "<div>\n",
       "<style scoped>\n",
       "    .dataframe tbody tr th:only-of-type {\n",
       "        vertical-align: middle;\n",
       "    }\n",
       "\n",
       "    .dataframe tbody tr th {\n",
       "        vertical-align: top;\n",
       "    }\n",
       "\n",
       "    .dataframe thead th {\n",
       "        text-align: right;\n",
       "    }\n",
       "</style>\n",
       "<table border=\"1\" class=\"dataframe\">\n",
       "  <thead>\n",
       "    <tr style=\"text-align: right;\">\n",
       "      <th></th>\n",
       "      <th>rollout</th>\n",
       "      <th>grad</th>\n",
       "    </tr>\n",
       "  </thead>\n",
       "  <tbody>\n",
       "    <tr>\n",
       "      <th>count</th>\n",
       "      <td>244.000000</td>\n",
       "      <td>244.000000</td>\n",
       "    </tr>\n",
       "    <tr>\n",
       "      <th>mean</th>\n",
       "      <td>0.238227</td>\n",
       "      <td>0.206385</td>\n",
       "    </tr>\n",
       "    <tr>\n",
       "      <th>std</th>\n",
       "      <td>0.165661</td>\n",
       "      <td>0.201752</td>\n",
       "    </tr>\n",
       "    <tr>\n",
       "      <th>min</th>\n",
       "      <td>-0.234687</td>\n",
       "      <td>-0.475615</td>\n",
       "    </tr>\n",
       "    <tr>\n",
       "      <th>25%</th>\n",
       "      <td>0.122849</td>\n",
       "      <td>0.081318</td>\n",
       "    </tr>\n",
       "    <tr>\n",
       "      <th>50%</th>\n",
       "      <td>0.251650</td>\n",
       "      <td>0.216118</td>\n",
       "    </tr>\n",
       "    <tr>\n",
       "      <th>75%</th>\n",
       "      <td>0.346300</td>\n",
       "      <td>0.343391</td>\n",
       "    </tr>\n",
       "    <tr>\n",
       "      <th>max</th>\n",
       "      <td>0.661277</td>\n",
       "      <td>0.757209</td>\n",
       "    </tr>\n",
       "  </tbody>\n",
       "</table>\n",
       "</div>"
      ],
      "text/plain": [
       "          rollout        grad\n",
       "count  244.000000  244.000000\n",
       "mean     0.238227    0.206385\n",
       "std      0.165661    0.201752\n",
       "min     -0.234687   -0.475615\n",
       "25%      0.122849    0.081318\n",
       "50%      0.251650    0.216118\n",
       "75%      0.346300    0.343391\n",
       "max      0.661277    0.757209"
      ]
     },
     "execution_count": 7,
     "metadata": {},
     "output_type": "execute_result"
    }
   ],
   "source": [
    "performance_dict = {}\n",
    "\n",
    "for idx in range(df_flow.shape[0]):\n",
    "    rollout_corr = df_flow.iloc[idx,:].corr(df_rollout.iloc[idx,:], method='spearman')\n",
    "    grad_rollout_corr = df_flow.iloc[idx,:].corr(df_grad_rollout.iloc[idx,:], method='spearman')\n",
    "    \n",
    "    performance_dict[idx] = [rollout_corr , grad_rollout_corr]\n",
    "    \n",
    "df_corrs = pd.DataFrame(performance_dict).T.rename({0 : 'rollout', 1: 'grad'}, axis = 1)\n",
    "df_corrs.describe()"
   ]
  },
  {
   "attachments": {},
   "cell_type": "markdown",
   "metadata": {},
   "source": [
    "# Attacks"
   ]
  },
  {
   "attachments": {},
   "cell_type": "markdown",
   "metadata": {},
   "source": [
    "## Rollout"
   ]
  },
  {
   "cell_type": "code",
   "execution_count": 10,
   "metadata": {},
   "outputs": [],
   "source": [
    "df_rollout = pd.read_csv(\"attack_data/saver_rollout.txt\", sep = ' ', header=None).iloc[:,3:].rename({3:\"Out\", 4:\"In\"},axis = 1)\n",
    "df_filtered = df_rollout.loc[~((df_rollout['Out'] == 50) & (df_rollout['In'] == 50))]"
   ]
  },
  {
   "cell_type": "code",
   "execution_count": 11,
   "metadata": {},
   "outputs": [
    {
     "name": "stdout",
     "output_type": "stream",
     "text": [
      "9.020833333333334\n",
      "28.642349385510926\n"
     ]
    }
   ],
   "source": [
    "print((df_filtered['Out'] - df_filtered['In']).mean())\n",
    "print((df_filtered['Out'] - df_filtered['In']).std())"
   ]
  },
  {
   "cell_type": "code",
   "execution_count": 12,
   "metadata": {},
   "outputs": [
    {
     "data": {
      "image/png": "[encoded data removed]",
      "text/plain": [
       "<Figure size 640x480 with 1 Axes>"
      ]
     },
     "metadata": {},
     "output_type": "display_data"
    }
   ],
   "source": [
    "plt.hist(df_filtered['Out'] - df_filtered['In'], bins = 30)\n",
    "plt.title(\"Histogram plot - Attention Rollout\")\n",
    "plt.show()"
   ]
  },
  {
   "attachments": {},
   "cell_type": "markdown",
   "metadata": {},
   "source": [
    "## Attention Flow"
   ]
  },
  {
   "cell_type": "code",
   "execution_count": 13,
   "metadata": {},
   "outputs": [],
   "source": [
    "df_rollout = pd.read_csv(\"attack_data/saver_result_attention_flow.txt\", sep = ' ', header=None).iloc[:,3:].rename({3:\"Out\", 4:\"In\"},axis = 1)\n",
    "df_filtered = df_rollout.loc[~((df_rollout['Out'] == 50) & (df_rollout['In'] == 50))]"
   ]
  },
  {
   "cell_type": "code",
   "execution_count": 14,
   "metadata": {},
   "outputs": [
    {
     "name": "stdout",
     "output_type": "stream",
     "text": [
      "-2.4552845528455283\n",
      "23.364626490165072\n"
     ]
    }
   ],
   "source": [
    "print((df_filtered['Out'] - df_filtered['In']).mean())\n",
    "print((df_filtered['Out'] - df_filtered['In']).std())"
   ]
  },
  {
   "cell_type": "code",
   "execution_count": 15,
   "metadata": {},
   "outputs": [
    {
     "data": {
      "image/png": "[encoded data removed]",
      "text/plain": [
       "<Figure size 640x480 with 1 Axes>"
      ]
     },
     "metadata": {},
     "output_type": "display_data"
    }
   ],
   "source": [
    "plt.title(\"Histogram plot - Attention Flow\")\n",
    "plt.hist(df_filtered['Out'] - df_filtered['In'], bins = 30)\n",
    "plt.show()"
   ]
  },
  {
   "attachments": {},
   "cell_type": "markdown",
   "metadata": {},
   "source": [
    "## Gradient Rollout"
   ]
  },
  {
   "cell_type": "code",
   "execution_count": 16,
   "metadata": {},
   "outputs": [],
   "source": [
    "df_rollout = pd.read_csv(\"attack_data/saver_grad.txt\", sep = ' ', header=None).iloc[:,3:].rename({3:\"Out\", 4:\"In\"},axis = 1)\n",
    "df_filtered = df_rollout.loc[~((df_rollout['Out'] == 50) & (df_rollout['In'] == 50))]"
   ]
  },
  {
   "cell_type": "code",
   "execution_count": 17,
   "metadata": {},
   "outputs": [
    {
     "name": "stdout",
     "output_type": "stream",
     "text": [
      "2.5692307692307694\n",
      "24.79995575813085\n"
     ]
    }
   ],
   "source": [
    "print((df_filtered['Out'] - df_filtered['In']).mean())\n",
    "print((df_filtered['Out'] - df_filtered['In']).std())"
   ]
  },
  {
   "cell_type": "code",
   "execution_count": 18,
   "metadata": {},
   "outputs": [
    {
     "data": {
      "image/png": "[encoded data removed]",
      "text/plain": [
       "<Figure size 640x480 with 1 Axes>"
      ]
     },
     "metadata": {},
     "output_type": "display_data"
    }
   ],
   "source": [
    "plt.title(\"Histogram plot - Attention Grad Rollout\")\n",
    "plt.hist(df_filtered['Out'] - df_filtered['In'], bins = 30)\n",
    "plt.show()"
   ]
  }
 ],
 "metadata": {
  "kernelspec": {
   "display_name": "venv_ea",
   "language": "python",
   "name": "python3"
  },
  "language_info": {
   "codemirror_mode": {
    "name": "ipython",
    "version": 3
   },
   "file_extension": ".py",
   "mimetype": "text/x-python",
   "name": "python",
   "nbconvert_exporter": "python",
   "pygments_lexer": "ipython3",
   "version": "3.11.8"
  },
  "orig_nbformat": 4
 },
 "nbformat": 4,
 "nbformat_minor": 2
}
